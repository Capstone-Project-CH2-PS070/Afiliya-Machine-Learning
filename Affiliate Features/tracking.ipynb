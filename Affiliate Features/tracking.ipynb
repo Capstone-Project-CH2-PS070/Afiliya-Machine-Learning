{
  "nbformat": 4,
  "nbformat_minor": 0,
  "metadata": {
    "colab": {
      "provenance": []
    },
    "kernelspec": {
      "name": "python3",
      "display_name": "Python 3"
    },
    "language_info": {
      "name": "python"
    }
  },
  "cells": [
    {
      "cell_type": "code",
      "execution_count": null,
      "metadata": {
        "id": "FoqQiaPRcXTk"
      },
      "outputs": [],
      "source": [
        "import sqlite3\n",
        "from datetime import datetime\n",
        "from google.colab import drive"
      ]
    },
    {
      "cell_type": "code",
      "source": [
        "drive.mount('/content/drive', force_remount=True)\n",
        "%cd /content/drive/MyDrive/Capstone\n",
        "conn = sqlite3.connect('affiliate_tracking.db')\n",
        "cursor = conn.cursor()"
      ],
      "metadata": {
        "colab": {
          "base_uri": "https://localhost:8080/"
        },
        "id": "4nvKcOZDdDYt",
        "outputId": "8b8c9bc7-17df-444f-fb8f-b0a20ad42a7b"
      },
      "execution_count": null,
      "outputs": [
        {
          "output_type": "stream",
          "name": "stdout",
          "text": [
            "Mounted at /content/drive\n",
            "/content/drive/MyDrive/Capstone\n"
          ]
        }
      ]
    },
    {
      "cell_type": "code",
      "source": [
        "# Membuat tabel untuk pelacakan afiliasi\n",
        "cursor.execute('''\n",
        "    CREATE TABLE IF NOT EXISTS affiliate_tracking (\n",
        "        id INTEGER PRIMARY KEY AUTOINCREMENT,\n",
        "        affiliate_id TEXT,\n",
        "        user_id TEXT,\n",
        "        action_type TEXT,\n",
        "        product_id TEXT,\n",
        "        order_id TEXT,\n",
        "        timestamp DATETIME DEFAULT CURRENT_TIMESTAMP\n",
        "    )\n",
        "''')\n",
        "conn.commit()\n",
        "\n",
        "# Fungsi untuk melacak klik\n",
        "def track_click(affiliate_id, product_id):\n",
        "    cursor.execute('''\n",
        "        INSERT INTO affiliate_tracking (affiliate_id, action_type, product_id)\n",
        "        VALUES (?, 'click', ?)\n",
        "    ''', (affiliate_id, product_id))\n",
        "    conn.commit()\n",
        "\n",
        "# Fungsi untuk melacak tindakan pengguna\n",
        "def track_user_action(affiliate_id, user_id, action_type, product_id):\n",
        "    cursor.execute('''\n",
        "        INSERT INTO affiliate_tracking (affiliate_id, user_id, action_type, product_id)\n",
        "        VALUES (?, ?, ?, ?)\n",
        "    ''', (affiliate_id, user_id, action_type, product_id))\n",
        "    conn.commit()\n",
        "\n",
        "# Fungsi untuk melacak penjualan\n",
        "def track_sale(affiliate_id, user_id, product_id, order_id):\n",
        "    cursor.execute('''\n",
        "        INSERT INTO affiliate_tracking (affiliate_id, user_id, action_type, product_id, order_id)\n",
        "        VALUES (?, ?, 'sale', ?, ?)\n",
        "    ''', (affiliate_id, user_id, product_id, order_id))\n",
        "    conn.commit()"
      ],
      "metadata": {
        "id": "70mVMptjdLwR"
      },
      "execution_count": null,
      "outputs": []
    },
    {
      "cell_type": "code",
      "source": [
        "# penggunaan fungsi\n",
        "affiliate_id = ''\n",
        "product_id = ''\n",
        "user_id = ''\n",
        "order_id = ''"
      ],
      "metadata": {
        "id": "izI7-jnag_nX"
      },
      "execution_count": null,
      "outputs": []
    },
    {
      "cell_type": "code",
      "source": [
        "# Melacak klik\n",
        "track_click(affiliate_id, product_id)\n",
        "\n",
        "# Melacak tindakan pengguna\n",
        "track_user_action(affiliate_id, user_id, 'add_to_cart', product_id)\n",
        "\n",
        "# Melacak penjualan\n",
        "track_sale(affiliate_id, user_id, product_id, order_id)"
      ],
      "metadata": {
        "id": "dzOJ0GbudnRj"
      },
      "execution_count": null,
      "outputs": []
    },
    {
      "cell_type": "code",
      "source": [
        "# Menampilkan data pelacakan afiliasi\n",
        "cursor.execute('SELECT * FROM affiliate_tracking')\n",
        "rows = cursor.fetchall()\n",
        "for row in rows:\n",
        "    print(row)"
      ],
      "metadata": {
        "colab": {
          "base_uri": "https://localhost:8080/"
        },
        "id": "6lOTskoWdjfy",
        "outputId": "e08e2cea-8c51-48e5-8df4-ab305ce93b0b"
      },
      "execution_count": null,
      "outputs": [
        {
          "output_type": "stream",
          "name": "stdout",
          "text": [
            "(1, '', None, 'click', '', None, '2023-11-27 13:04:20')\n",
            "(2, '', '', 'add_to_cart', '', None, '2023-11-27 13:04:20')\n",
            "(3, '', '', 'sale', '', '', '2023-11-27 13:04:20')\n"
          ]
        }
      ]
    },
    {
      "cell_type": "code",
      "source": [
        "# Menutup koneksi\n",
        "conn.close()"
      ],
      "metadata": {
        "id": "S7di6pwcdgqf"
      },
      "execution_count": null,
      "outputs": []
    }
  ]
}